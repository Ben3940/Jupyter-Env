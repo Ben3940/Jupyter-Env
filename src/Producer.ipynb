{
 "cells": [
  {
   "cell_type": "code",
   "execution_count": 13,
   "id": "934cb216-c2fb-4268-8623-ee8db5aee751",
   "metadata": {},
   "outputs": [
    {
     "name": "stdout",
     "output_type": "stream",
     "text": [
      "Message produced: <cimpl.Message object at 0x7f70ac426b40>\n",
      "Message produced: <cimpl.Message object at 0x7f70ac426b40>\n",
      "Message produced: <cimpl.Message object at 0x7f70ac426b40>\n"
     ]
    },
    {
     "data": {
      "text/plain": [
       "1"
      ]
     },
     "execution_count": 13,
     "metadata": {},
     "output_type": "execute_result"
    }
   ],
   "source": [
    "from confluent_kafka import Producer\n",
    "\n",
    "\n",
    "def acked(err, msg):\n",
    "    if err is not None:\n",
    "        print(\"Failed to deliver message: %s: %s\" % (str(msg), str(err)))\n",
    "    else:\n",
    "        print(\"Message produced: %s\" % (str(msg)))\n",
    "\n",
    "\n",
    "conf = {\"bootstrap.servers\": \"broker:9092\", \"client.id\": \"python-producer\"}\n",
    "\n",
    "producer = Producer(conf)\n",
    "for i in range(3):\n",
    "    producer.produce(\"test\", key=str(i), value=f\"Message {i}\", callback=acked)\n",
    "\n",
    "producer.poll(1)\n"
   ]
  }
 ],
 "metadata": {
  "kernelspec": {
   "display_name": "Python 3 (ipykernel)",
   "language": "python",
   "name": "python3"
  },
  "language_info": {
   "codemirror_mode": {
    "name": "ipython",
    "version": 3
   },
   "file_extension": ".py",
   "mimetype": "text/x-python",
   "name": "python",
   "nbconvert_exporter": "python",
   "pygments_lexer": "ipython3",
   "version": "3.11.6"
  }
 },
 "nbformat": 4,
 "nbformat_minor": 5
}
