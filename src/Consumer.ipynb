{
 "cells": [
  {
   "cell_type": "code",
   "execution_count": 1,
   "id": "551e5ac5-b30c-4f6a-bb54-0e74594af82f",
   "metadata": {},
   "outputs": [
    {
     "name": "stdout",
     "output_type": "stream",
     "text": [
      "b'Message {0}'\n",
      "b'Message {0}'\n",
      "b'Message {0}'\n",
      "b'Message 0'\n",
      "b'Message 1'\n",
      "b'Message 2'\n"
     ]
    },
    {
     "ename": "KeyboardInterrupt",
     "evalue": "",
     "output_type": "error",
     "traceback": [
      "\u001b[0;31m---------------------------------------------------------------------------\u001b[0m",
      "\u001b[0;31mKeyboardInterrupt\u001b[0m                         Traceback (most recent call last)",
      "Cell \u001b[0;32mIn[1], line 42\u001b[0m\n\u001b[1;32m     37\u001b[0m     \u001b[38;5;28;01mfinally\u001b[39;00m:\n\u001b[1;32m     38\u001b[0m         \u001b[38;5;66;03m# Close down consumer to commit final offsets.\u001b[39;00m\n\u001b[1;32m     39\u001b[0m         consumer\u001b[38;5;241m.\u001b[39mclose()\n\u001b[0;32m---> 42\u001b[0m \u001b[43mconsume_loop\u001b[49m\u001b[43m(\u001b[49m\u001b[43mcons\u001b[49m\u001b[43m,\u001b[49m\u001b[43m \u001b[49m\u001b[43m[\u001b[49m\u001b[38;5;124;43m\"\u001b[39;49m\u001b[38;5;124;43mtest\u001b[39;49m\u001b[38;5;124;43m\"\u001b[39;49m\u001b[43m]\u001b[49m\u001b[43m)\u001b[49m\n",
      "Cell \u001b[0;32mIn[1], line 19\u001b[0m, in \u001b[0;36mconsume_loop\u001b[0;34m(consumer, topics)\u001b[0m\n\u001b[1;32m     17\u001b[0m msg_count \u001b[38;5;241m=\u001b[39m \u001b[38;5;241m0\u001b[39m\n\u001b[1;32m     18\u001b[0m \u001b[38;5;28;01mwhile\u001b[39;00m running:\n\u001b[0;32m---> 19\u001b[0m     msg \u001b[38;5;241m=\u001b[39m \u001b[43mconsumer\u001b[49m\u001b[38;5;241;43m.\u001b[39;49m\u001b[43mpoll\u001b[49m\u001b[43m(\u001b[49m\u001b[43mtimeout\u001b[49m\u001b[38;5;241;43m=\u001b[39;49m\u001b[38;5;241;43m1.0\u001b[39;49m\u001b[43m)\u001b[49m\n\u001b[1;32m     20\u001b[0m     \u001b[38;5;28;01mif\u001b[39;00m msg \u001b[38;5;129;01mis\u001b[39;00m \u001b[38;5;28;01mNone\u001b[39;00m:\n\u001b[1;32m     21\u001b[0m         \u001b[38;5;28;01mcontinue\u001b[39;00m\n",
      "\u001b[0;31mKeyboardInterrupt\u001b[0m: "
     ]
    }
   ],
   "source": [
    "from confluent_kafka import Consumer, KafkaError, KafkaException\n",
    "import sys\n",
    "\n",
    "conf = {\n",
    "    \"bootstrap.servers\": \"broker:9092\",\n",
    "    \"group.id\": \"foo\",\n",
    "    \"auto.offset.reset\": \"smallest\",\n",
    "}\n",
    "running = True\n",
    "cons = Consumer(conf)\n",
    "\n",
    "\n",
    "def consume_loop(consumer, topics):\n",
    "    try:\n",
    "        consumer.subscribe(topics)\n",
    "\n",
    "        msg_count = 0\n",
    "        while running:\n",
    "            msg = consumer.poll(timeout=1.0)\n",
    "            if msg is None:\n",
    "                continue\n",
    "\n",
    "            if msg.error():\n",
    "                if msg.error().code() == KafkaError._PARTITION_EOF:\n",
    "                    # End of partition event\n",
    "                    sys.stderr.write(\n",
    "                        \"%% %s [%d] reached end at offset %d\\n\"\n",
    "                        % (msg.topic(), msg.partition(), msg.offset())\n",
    "                    )\n",
    "                elif msg.error():\n",
    "                    raise KafkaException(msg.error())\n",
    "            else:\n",
    "                print(msg.value())\n",
    "                msg_count += 1\n",
    "                if msg_count > 1:\n",
    "                    consumer.commit(asynchronous=False)\n",
    "    finally:\n",
    "        # Close down consumer to commit final offsets.\n",
    "        consumer.close()\n",
    "\n",
    "\n",
    "consume_loop(cons, [\"test\"])"
   ]
  }
 ],
 "metadata": {
  "kernelspec": {
   "display_name": "Python 3 (ipykernel)",
   "language": "python",
   "name": "python3"
  },
  "language_info": {
   "codemirror_mode": {
    "name": "ipython",
    "version": 3
   },
   "file_extension": ".py",
   "mimetype": "text/x-python",
   "name": "python",
   "nbconvert_exporter": "python",
   "pygments_lexer": "ipython3",
   "version": "3.11.6"
  }
 },
 "nbformat": 4,
 "nbformat_minor": 5
}
